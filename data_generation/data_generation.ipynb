{
 "cells": [
  {
   "cell_type": "markdown",
   "metadata": {},
   "source": [
    "Due to the COVID-19 pandemic we were forced to turn to e-learning. I must admit that for me it was fun. As an academic teacher I learned a lot. We recorded videos of how to use the instruments, then I edited the video using [Shotcut](https://www.shotcut.org/). The editing was reduced to merely adding some text, speeding up some fragments, cutting and merging. But since that were laboratory classes, students should gather some data to further analyse them and produce some conclusions.\n",
    "\n",
    "One of the classes is Geiger-Muller tube voltage calibration. During the classes students are altering Geiger-Muller counter's voltage and note how much counts does the counter record. [Some explanation](https://www.cpp.edu/~pbsiegel/bio431/texnotes/chapter4.pdf). I would add that thanks to the plateau the number of counts, does not vary that much if the voltage changes slightly during or between the measurements (for example due to power supply malfunction).\n",
    "\n",
    "Knowing that the radioactive decay is subject to [Poisson distribution](https://physics.uwo.ca/~psimpson/radioactivedecaymanual.pdf) I generated the data using Python. Poisson distribution is a one parameter distribution where the parameter is both mean value and variance. So I took some results of previous years classes and dived into code. I do not impose the data processing way. Students are free to use any kind of software. I tried to ecourage them to use Python, R, Matlab, Scilab or whatever else there is in the world.\n",
    "\n",
    "Well.. They all use MSExcel, so I generated so much data that it failed to read it. Scroll down to check the code and some plots."
   ]
  },
  {
   "cell_type": "code",
   "execution_count": 1,
   "metadata": {},
   "outputs": [],
   "source": [
    "import numpy as np\n",
    "import pandas as pd\n",
    "import matplotlib.pyplot as plt\n",
    "import seaborn as sns\n",
    "from matplotlib import rcParams"
   ]
  },
  {
   "cell_type": "code",
   "execution_count": 2,
   "metadata": {},
   "outputs": [],
   "source": [
    "plt.style.use(\"dark_background\")\n",
    "rcParams[\"font.size\"] = 25\n",
    "rcParams[\"figure.figsize\"] = (15,8)"
   ]
  },
  {
   "cell_type": "code",
   "execution_count": 3,
   "metadata": {},
   "outputs": [
    {
     "data": {
      "text/html": [
       "<div>\n",
       "<style scoped>\n",
       "    .dataframe tbody tr th:only-of-type {\n",
       "        vertical-align: middle;\n",
       "    }\n",
       "\n",
       "    .dataframe tbody tr th {\n",
       "        vertical-align: top;\n",
       "    }\n",
       "\n",
       "    .dataframe thead th {\n",
       "        text-align: right;\n",
       "    }\n",
       "</style>\n",
       "<table border=\"1\" class=\"dataframe\">\n",
       "  <thead>\n",
       "    <tr style=\"text-align: right;\">\n",
       "      <th></th>\n",
       "      <th>340 V</th>\n",
       "      <th>420 V</th>\n",
       "      <th>430 V</th>\n",
       "      <th>440 V</th>\n",
       "      <th>460 V</th>\n",
       "      <th>500 V</th>\n",
       "      <th>520 V</th>\n",
       "      <th>540 V</th>\n",
       "      <th>560 V</th>\n",
       "      <th>580 V</th>\n",
       "      <th>...</th>\n",
       "      <th>760 V</th>\n",
       "      <th>780 V</th>\n",
       "      <th>800 V</th>\n",
       "      <th>820 V</th>\n",
       "      <th>840 V</th>\n",
       "      <th>860 V</th>\n",
       "      <th>880 V</th>\n",
       "      <th>900 V</th>\n",
       "      <th>920 V</th>\n",
       "      <th>940 V</th>\n",
       "    </tr>\n",
       "  </thead>\n",
       "  <tbody>\n",
       "    <tr>\n",
       "      <th>mean</th>\n",
       "      <td>0</td>\n",
       "      <td>0</td>\n",
       "      <td>0</td>\n",
       "      <td>277</td>\n",
       "      <td>294</td>\n",
       "      <td>306</td>\n",
       "      <td>316</td>\n",
       "      <td>259</td>\n",
       "      <td>320</td>\n",
       "      <td>356</td>\n",
       "      <td>...</td>\n",
       "      <td>346</td>\n",
       "      <td>369</td>\n",
       "      <td>372</td>\n",
       "      <td>425</td>\n",
       "      <td>476</td>\n",
       "      <td>519</td>\n",
       "      <td>647</td>\n",
       "      <td>761</td>\n",
       "      <td>884</td>\n",
       "      <td>1221</td>\n",
       "    </tr>\n",
       "  </tbody>\n",
       "</table>\n",
       "<p>1 rows × 28 columns</p>\n",
       "</div>"
      ],
      "text/plain": [
       "      340 V  420 V  430 V  440 V  460 V  500 V  520 V  540 V  560 V  580 V  \\\n",
       "mean      0      0      0    277    294    306    316    259    320    356   \n",
       "\n",
       "      ...  760 V  780 V  800 V  820 V  840 V  860 V  880 V  900 V  920 V  \\\n",
       "mean  ...    346    369    372    425    476    519    647    761    884   \n",
       "\n",
       "      940 V  \n",
       "mean   1221  \n",
       "\n",
       "[1 rows x 28 columns]"
      ]
     },
     "execution_count": 3,
     "metadata": {},
     "output_type": "execute_result"
    }
   ],
   "source": [
    "volts = \"340;420;430;440;460;500;520;540;560;580;600;620;640;660;680;700;720;740;760;780;800;820;840;860;880;900;920;940\"\n",
    "cnts = \"0.0;0.0;0.0;277;294;306;316;259;320;356;284;257;291;316;302;304;325;360;346;369;372;425;476;519;647;761;884;1221\"\n",
    "voltages = [int(x) for x in volts.split(\";\")]\n",
    "counts = [int(float(x)) for x in cnts.split(\";\")]\n",
    "basic_data = {voltage: count for voltage, count in zip([f\"{x} V\" for x in voltages], counts)}\n",
    "basic_data = pd.DataFrame(basic_data, index=[\"mean\"])\n",
    "basic_data"
   ]
  },
  {
   "cell_type": "code",
   "execution_count": 4,
   "metadata": {},
   "outputs": [
    {
     "data": {
      "image/png": "[encoded data removed]",
      "text/plain": [
       "<Figure size 1080x576 with 1 Axes>"
      ]
     },
     "metadata": {},
     "output_type": "display_data"
    }
   ],
   "source": [
    "fig, ax = plt.subplots()\n",
    "sns.lineplot(x=voltages, y=basic_data.iloc[0,:], ax=ax, linewidth=3)\n",
    "ax.set(xlabel=\"voltage\", ylabel=\"counts\")\n",
    "ax.tick_params(axis=\"x\", rotation=45)"
   ]
  },
  {
   "cell_type": "markdown",
   "metadata": {},
   "source": [
    "Well although, the data is not perfect, the plateau region is clearly visible."
   ]
  },
  {
   "cell_type": "code",
   "execution_count": 5,
   "metadata": {},
   "outputs": [],
   "source": [
    "num_measurements = 100000\n",
    "pd0 = pd.DataFrame(np.zeros((num_measurements,3)))\n",
    "pd1 = basic_data[basic_data.columns[3:]].apply(np.random.poisson, size=num_measurements)\n",
    "data = pd.concat([pd0, pd1], axis=1)\n",
    "data.columns = [f\"{x} V\" for x in voltages]"
   ]
  },
  {
   "cell_type": "code",
   "execution_count": 6,
   "metadata": {},
   "outputs": [
    {
     "data": {
      "text/html": [
       "<div>\n",
       "<style scoped>\n",
       "    .dataframe tbody tr th:only-of-type {\n",
       "        vertical-align: middle;\n",
       "    }\n",
       "\n",
       "    .dataframe tbody tr th {\n",
       "        vertical-align: top;\n",
       "    }\n",
       "\n",
       "    .dataframe thead th {\n",
       "        text-align: right;\n",
       "    }\n",
       "</style>\n",
       "<table border=\"1\" class=\"dataframe\">\n",
       "  <thead>\n",
       "    <tr style=\"text-align: right;\">\n",
       "      <th></th>\n",
       "      <th>340 V</th>\n",
       "      <th>420 V</th>\n",
       "      <th>430 V</th>\n",
       "      <th>440 V</th>\n",
       "      <th>460 V</th>\n",
       "      <th>500 V</th>\n",
       "      <th>520 V</th>\n",
       "      <th>540 V</th>\n",
       "      <th>560 V</th>\n",
       "      <th>580 V</th>\n",
       "      <th>...</th>\n",
       "      <th>760 V</th>\n",
       "      <th>780 V</th>\n",
       "      <th>800 V</th>\n",
       "      <th>820 V</th>\n",
       "      <th>840 V</th>\n",
       "      <th>860 V</th>\n",
       "      <th>880 V</th>\n",
       "      <th>900 V</th>\n",
       "      <th>920 V</th>\n",
       "      <th>940 V</th>\n",
       "    </tr>\n",
       "  </thead>\n",
       "  <tbody>\n",
       "    <tr>\n",
       "      <th>0</th>\n",
       "      <td>0.0</td>\n",
       "      <td>0.0</td>\n",
       "      <td>0.0</td>\n",
       "      <td>291</td>\n",
       "      <td>284</td>\n",
       "      <td>294</td>\n",
       "      <td>297</td>\n",
       "      <td>245</td>\n",
       "      <td>305</td>\n",
       "      <td>375</td>\n",
       "      <td>...</td>\n",
       "      <td>363</td>\n",
       "      <td>335</td>\n",
       "      <td>354</td>\n",
       "      <td>410</td>\n",
       "      <td>467</td>\n",
       "      <td>503</td>\n",
       "      <td>673</td>\n",
       "      <td>799</td>\n",
       "      <td>862</td>\n",
       "      <td>1246</td>\n",
       "    </tr>\n",
       "    <tr>\n",
       "      <th>1</th>\n",
       "      <td>0.0</td>\n",
       "      <td>0.0</td>\n",
       "      <td>0.0</td>\n",
       "      <td>293</td>\n",
       "      <td>323</td>\n",
       "      <td>330</td>\n",
       "      <td>321</td>\n",
       "      <td>256</td>\n",
       "      <td>320</td>\n",
       "      <td>367</td>\n",
       "      <td>...</td>\n",
       "      <td>373</td>\n",
       "      <td>350</td>\n",
       "      <td>349</td>\n",
       "      <td>420</td>\n",
       "      <td>427</td>\n",
       "      <td>482</td>\n",
       "      <td>628</td>\n",
       "      <td>723</td>\n",
       "      <td>813</td>\n",
       "      <td>1266</td>\n",
       "    </tr>\n",
       "    <tr>\n",
       "      <th>2</th>\n",
       "      <td>0.0</td>\n",
       "      <td>0.0</td>\n",
       "      <td>0.0</td>\n",
       "      <td>306</td>\n",
       "      <td>270</td>\n",
       "      <td>293</td>\n",
       "      <td>324</td>\n",
       "      <td>251</td>\n",
       "      <td>346</td>\n",
       "      <td>348</td>\n",
       "      <td>...</td>\n",
       "      <td>343</td>\n",
       "      <td>381</td>\n",
       "      <td>380</td>\n",
       "      <td>420</td>\n",
       "      <td>469</td>\n",
       "      <td>489</td>\n",
       "      <td>664</td>\n",
       "      <td>772</td>\n",
       "      <td>850</td>\n",
       "      <td>1227</td>\n",
       "    </tr>\n",
       "    <tr>\n",
       "      <th>3</th>\n",
       "      <td>0.0</td>\n",
       "      <td>0.0</td>\n",
       "      <td>0.0</td>\n",
       "      <td>256</td>\n",
       "      <td>312</td>\n",
       "      <td>314</td>\n",
       "      <td>287</td>\n",
       "      <td>273</td>\n",
       "      <td>347</td>\n",
       "      <td>320</td>\n",
       "      <td>...</td>\n",
       "      <td>366</td>\n",
       "      <td>353</td>\n",
       "      <td>365</td>\n",
       "      <td>415</td>\n",
       "      <td>489</td>\n",
       "      <td>545</td>\n",
       "      <td>640</td>\n",
       "      <td>824</td>\n",
       "      <td>880</td>\n",
       "      <td>1208</td>\n",
       "    </tr>\n",
       "    <tr>\n",
       "      <th>4</th>\n",
       "      <td>0.0</td>\n",
       "      <td>0.0</td>\n",
       "      <td>0.0</td>\n",
       "      <td>286</td>\n",
       "      <td>305</td>\n",
       "      <td>316</td>\n",
       "      <td>313</td>\n",
       "      <td>232</td>\n",
       "      <td>306</td>\n",
       "      <td>358</td>\n",
       "      <td>...</td>\n",
       "      <td>368</td>\n",
       "      <td>356</td>\n",
       "      <td>372</td>\n",
       "      <td>410</td>\n",
       "      <td>468</td>\n",
       "      <td>563</td>\n",
       "      <td>642</td>\n",
       "      <td>730</td>\n",
       "      <td>879</td>\n",
       "      <td>1297</td>\n",
       "    </tr>\n",
       "  </tbody>\n",
       "</table>\n",
       "<p>5 rows × 28 columns</p>\n",
       "</div>"
      ],
      "text/plain": [
       "   340 V  420 V  430 V  440 V  460 V  500 V  520 V  540 V  560 V  580 V  ...  \\\n",
       "0    0.0    0.0    0.0    291    284    294    297    245    305    375  ...   \n",
       "1    0.0    0.0    0.0    293    323    330    321    256    320    367  ...   \n",
       "2    0.0    0.0    0.0    306    270    293    324    251    346    348  ...   \n",
       "3    0.0    0.0    0.0    256    312    314    287    273    347    320  ...   \n",
       "4    0.0    0.0    0.0    286    305    316    313    232    306    358  ...   \n",
       "\n",
       "   760 V  780 V  800 V  820 V  840 V  860 V  880 V  900 V  920 V  940 V  \n",
       "0    363    335    354    410    467    503    673    799    862   1246  \n",
       "1    373    350    349    420    427    482    628    723    813   1266  \n",
       "2    343    381    380    420    469    489    664    772    850   1227  \n",
       "3    366    353    365    415    489    545    640    824    880   1208  \n",
       "4    368    356    372    410    468    563    642    730    879   1297  \n",
       "\n",
       "[5 rows x 28 columns]"
      ]
     },
     "execution_count": 6,
     "metadata": {},
     "output_type": "execute_result"
    }
   ],
   "source": [
    "data.head()"
   ]
  },
  {
   "cell_type": "code",
   "execution_count": 7,
   "metadata": {},
   "outputs": [],
   "source": [
    "melted_data = data.melt(var_name=\"Voltage [V]\", value_name=\"Counts\")"
   ]
  },
  {
   "cell_type": "code",
   "execution_count": 8,
   "metadata": {},
   "outputs": [
    {
     "data": {
      "text/html": [
       "<div>\n",
       "<style scoped>\n",
       "    .dataframe tbody tr th:only-of-type {\n",
       "        vertical-align: middle;\n",
       "    }\n",
       "\n",
       "    .dataframe tbody tr th {\n",
       "        vertical-align: top;\n",
       "    }\n",
       "\n",
       "    .dataframe thead th {\n",
       "        text-align: right;\n",
       "    }\n",
       "</style>\n",
       "<table border=\"1\" class=\"dataframe\">\n",
       "  <thead>\n",
       "    <tr style=\"text-align: right;\">\n",
       "      <th></th>\n",
       "      <th>Voltage [V]</th>\n",
       "      <th>Counts</th>\n",
       "    </tr>\n",
       "  </thead>\n",
       "  <tbody>\n",
       "    <tr>\n",
       "      <th>0</th>\n",
       "      <td>340 V</td>\n",
       "      <td>0.0</td>\n",
       "    </tr>\n",
       "    <tr>\n",
       "      <th>1</th>\n",
       "      <td>340 V</td>\n",
       "      <td>0.0</td>\n",
       "    </tr>\n",
       "    <tr>\n",
       "      <th>2</th>\n",
       "      <td>340 V</td>\n",
       "      <td>0.0</td>\n",
       "    </tr>\n",
       "    <tr>\n",
       "      <th>3</th>\n",
       "      <td>340 V</td>\n",
       "      <td>0.0</td>\n",
       "    </tr>\n",
       "    <tr>\n",
       "      <th>4</th>\n",
       "      <td>340 V</td>\n",
       "      <td>0.0</td>\n",
       "    </tr>\n",
       "  </tbody>\n",
       "</table>\n",
       "</div>"
      ],
      "text/plain": [
       "  Voltage [V]  Counts\n",
       "0       340 V     0.0\n",
       "1       340 V     0.0\n",
       "2       340 V     0.0\n",
       "3       340 V     0.0\n",
       "4       340 V     0.0"
      ]
     },
     "execution_count": 8,
     "metadata": {},
     "output_type": "execute_result"
    }
   ],
   "source": [
    "melted_data.head()"
   ]
  },
  {
   "cell_type": "code",
   "execution_count": 9,
   "metadata": {},
   "outputs": [],
   "source": [
    "melted_data[\"Voltage [V]\"] = melted_data[\"Voltage [V]\"].apply(lambda x: int(x.split()[0]))"
   ]
  },
  {
   "cell_type": "code",
   "execution_count": 10,
   "metadata": {},
   "outputs": [
    {
     "data": {
      "text/html": [
       "<div>\n",
       "<style scoped>\n",
       "    .dataframe tbody tr th:only-of-type {\n",
       "        vertical-align: middle;\n",
       "    }\n",
       "\n",
       "    .dataframe tbody tr th {\n",
       "        vertical-align: top;\n",
       "    }\n",
       "\n",
       "    .dataframe thead th {\n",
       "        text-align: right;\n",
       "    }\n",
       "</style>\n",
       "<table border=\"1\" class=\"dataframe\">\n",
       "  <thead>\n",
       "    <tr style=\"text-align: right;\">\n",
       "      <th></th>\n",
       "      <th>Voltage [V]</th>\n",
       "      <th>Counts</th>\n",
       "    </tr>\n",
       "  </thead>\n",
       "  <tbody>\n",
       "    <tr>\n",
       "      <th>0</th>\n",
       "      <td>340</td>\n",
       "      <td>0.0</td>\n",
       "    </tr>\n",
       "    <tr>\n",
       "      <th>1</th>\n",
       "      <td>340</td>\n",
       "      <td>0.0</td>\n",
       "    </tr>\n",
       "    <tr>\n",
       "      <th>2</th>\n",
       "      <td>340</td>\n",
       "      <td>0.0</td>\n",
       "    </tr>\n",
       "    <tr>\n",
       "      <th>3</th>\n",
       "      <td>340</td>\n",
       "      <td>0.0</td>\n",
       "    </tr>\n",
       "    <tr>\n",
       "      <th>4</th>\n",
       "      <td>340</td>\n",
       "      <td>0.0</td>\n",
       "    </tr>\n",
       "  </tbody>\n",
       "</table>\n",
       "</div>"
      ],
      "text/plain": [
       "   Voltage [V]  Counts\n",
       "0          340     0.0\n",
       "1          340     0.0\n",
       "2          340     0.0\n",
       "3          340     0.0\n",
       "4          340     0.0"
      ]
     },
     "execution_count": 10,
     "metadata": {},
     "output_type": "execute_result"
    }
   ],
   "source": [
    "melted_data.head()"
   ]
  },
  {
   "cell_type": "markdown",
   "metadata": {},
   "source": [
    "Now we can generate a plot with confidence interval. One of the goals to pass the class is to generate a plot with confidence interval and indicate what should be the optimal voltage for the G-M tube that was used during the measurements."
   ]
  },
  {
   "cell_type": "code",
   "execution_count": 11,
   "metadata": {},
   "outputs": [
    {
     "data": {
      "image/png": "[encoded data removed]",
      "text/plain": [
       "<Figure size 1080x576 with 1 Axes>"
      ]
     },
     "metadata": {},
     "output_type": "display_data"
    }
   ],
   "source": [
    "fig, ax = plt.subplots()\n",
    "sns.lineplot(x=\"Voltage [V]\", y=\"Counts\", data=melted_data, ci=\"sd\", linewidth=3)\n",
    "ax.tick_params(axis=\"x\", rotation=45)"
   ]
  },
  {
   "cell_type": "code",
   "execution_count": 12,
   "metadata": {},
   "outputs": [],
   "source": [
    "data_transposed = data.T"
   ]
  },
  {
   "cell_type": "code",
   "execution_count": 13,
   "metadata": {},
   "outputs": [
    {
     "data": {
      "text/plain": [
       "((100000, 28), (2800000, 2), (28, 100000))"
      ]
     },
     "execution_count": 13,
     "metadata": {},
     "output_type": "execute_result"
    }
   ],
   "source": [
    "data.shape, melted_data.shape, data_transposed.shape"
   ]
  },
  {
   "cell_type": "markdown",
   "metadata": {},
   "source": [
    "We now have the same data but organised into 3 different shapes.\n",
    "1. data - 100k rows, 28 columns; this is readable in MSExcel\n",
    "2. melted_data - 2.8 million rows, 2 columns; this amount of rows is not readable in MSExcel\n",
    "3. data_transposed - 28 rows, 100k columns; this amount of columns is not readable in MSExcel"
   ]
  },
  {
   "cell_type": "code",
   "execution_count": 16,
   "metadata": {},
   "outputs": [],
   "source": [
    "data.to_csv(\"data_ready.csv\")  #  11.9MB\n",
    "melted_data.to_csv(\"data2_ready.csv\")  #  54.5MB\n",
    "data_transposed.to_csv(\"data3_ready.csv\")  # 16.9MB"
   ]
  },
  {
   "cell_type": "markdown",
   "metadata": {},
   "source": [
    "But now, after reading [this article](https://towardsdatascience.com/csv-files-for-storage-no-thanks-theres-a-better-option-72c78a414d1d) I would use .parquet file format. To do that we must change column names of transposed data to strings. You may also need to install pyarrow or fastarrow to use parquet file format."
   ]
  },
  {
   "cell_type": "code",
   "execution_count": 15,
   "metadata": {},
   "outputs": [],
   "source": [
    "data_transposed.columns = [f\"measurement_{x}\" for x in range(num_measurements)]"
   ]
  },
  {
   "cell_type": "code",
   "execution_count": 16,
   "metadata": {},
   "outputs": [],
   "source": [
    "data.to_parquet(\"data_ready.parquet\")  #  2.5MB\n",
    "melted_data.to_parquet(\"data2_ready.parquet\")  #  2.8MB\n",
    "data_transposed.to_parquet(\"data3_ready.parquet\")  # 87.8MB"
   ]
  },
  {
   "cell_type": "markdown",
   "metadata": {},
   "source": [
    "As you can see the transposed .parquet file takes more disk space than .csv so I would stick to .csv in this case."
   ]
  }
 ],
 "metadata": {
  "kernelspec": {
   "display_name": ".JupyterLab",
   "language": "python",
   "name": ".jupyterlab"
  },
  "language_info": {
   "codemirror_mode": {
    "name": "ipython",
    "version": 3
   },
   "file_extension": ".py",
   "mimetype": "text/x-python",
   "name": "python",
   "nbconvert_exporter": "python",
   "pygments_lexer": "ipython3",
   "version": "3.8.2"
  }
 },
 "nbformat": 4,
 "nbformat_minor": 4
}
